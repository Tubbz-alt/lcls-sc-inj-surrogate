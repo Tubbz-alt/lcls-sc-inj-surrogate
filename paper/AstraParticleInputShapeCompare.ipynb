{
 "cells": [
  {
   "cell_type": "code",
   "execution_count": null,
   "metadata": {},
   "outputs": [],
   "source": [
    "%load_ext autoreload\n",
    "%autoreload 2\n",
    "import matplotlib as mpl\n",
    "mpl.rcParams['figure.figsize'] = (6,6)\n",
    "import matplotlib.pyplot as plt\n",
    "import numpy as np\n",
    "from distgen import Generator\n",
    "from distgen.physical_constants import unit_registry\n",
    "from astra.astra_distgen import evaluate_astra_with_distgen\n",
    "from pmd_beamphysics.plot import marginal_plot"
   ]
  },
  {
   "cell_type": "markdown",
   "metadata": {},
   "source": [
    "## Loading in Distgen Inputs"
   ]
  },
  {
   "cell_type": "code",
   "execution_count": null,
   "metadata": {},
   "outputs": [],
   "source": [
    "VCC_IN = \"files/2019_11_04_135614reg_outreg_laser_in.yaml\"\n",
    "VCC_FILTERED_IN = \"files/2019_11_04_135614_filt_outfilt_laser_in.yaml\"\n",
    "SUPERG_IN = \"files/2019_11_04_135614.yaml\"\n",
    "RMAX_IN = \"files/135614-trunc-rmax.yaml\"\n",
    "CIRC = \"files/135614_circ.yaml\"\n",
    "DIST_INPUTS = [VCC_IN, VCC_FILTERED_IN, SUPERG_IN, RMAX_IN, CIRC]"
   ]
  },
  {
   "cell_type": "code",
   "execution_count": null,
   "metadata": {},
   "outputs": [],
   "source": [
    "def returnImportantStuff(input_file, bins = 100):\n",
    "    gen = Generator(input_file)\n",
    "    gen.input['n_particle'] = 1000000\n",
    "    gen.run()\n",
    "    particles = gen.particles\n",
    "    px = particles['x']\n",
    "    py = particles['y']\n",
    "    sig_x = particles['sigma_x']\n",
    "    sig_y = particles['sigma_y']\n",
    "    xhist = np.histogram(px, bins = bins)\n",
    "    yhist = np.histogram(py, bins = bins)\n",
    "    H, xedges, yedges = np.histogram2d(px, py, bins=bins)\n",
    "    return particles, xhist, yhist, H"
   ]
  },
  {
   "cell_type": "markdown",
   "metadata": {},
   "source": [
    "## View the Distgen Inputs"
   ]
  },
  {
   "cell_type": "code",
   "execution_count": null,
   "metadata": {},
   "outputs": [],
   "source": [
    "for inp in DIST_INPUTS:\n",
    "    particles, hx, hy, H= returnImportantStuff(inp, bins = 100)\n",
    "    marginal_plot(particles, 'x', 'y', bins = 100)\n",
    "    plt.show()"
   ]
  },
  {
   "cell_type": "markdown",
   "metadata": {},
   "source": [
    "## Run Astra"
   ]
  },
  {
   "cell_type": "markdown",
   "metadata": {},
   "source": [
    "Change Astra input and archive directories as needed."
   ]
  },
  {
   "cell_type": "code",
   "execution_count": null,
   "metadata": {},
   "outputs": [],
   "source": [
    "ASTRA_IN = \"/global/homes/l/lgupta/cori/GitHub/lcls-lattice/astra/models/gunb_eic/astra.in\"\n",
    "ARCHIVE_PATH = \"/global/u1/l/lgupta/m669/datasets/temp\""
   ]
  },
  {
   "cell_type": "code",
   "execution_count": null,
   "metadata": {},
   "outputs": [],
   "source": [
    "settings = {}\n",
    "settings[\"High Charge = 250pC\"] = {\"distgen:n_particle\": 10000, \"lspch\": True, \"zstop\": 1.49, \"phi(1)\": 0 , \"maxb(2)\": 0.07 , \n",
    "             \"distgen:total_charge:value\": 250.0 , \"zphase\": 20}\n",
    "settings[\"Low Charge = 25pC\"] = {\"distgen:n_particle\": 10000, \"lspch\": True, \"zstop\": 1.49, \"phi(1)\": 0 , \"maxb(2)\": 0.07 , \n",
    "             \"distgen:total_charge:value\": 25.0 , \"zphase\": 20}\n",
    "\n",
    "NAMES = [\"VCC\", \"VCC_FILTERED\", \"SUPERG\", \"RMAX\", \"CIRC\"]\n",
    "\n",
    "charges = [\"High Charge = 250pC\", \"Low Charge = 25pC\"]\n",
    "\n",
    "outputs = {}\n",
    "for charge in charges:\n",
    "    settings0 = settings[charge]\n",
    "    #print(settings0[\"distgen:total_charge:value\"])\n",
    "    all_outputs = {}\n",
    "    for i, inp in enumerate(DIST_INPUTS):\n",
    "        A = evaluate_astra_with_distgen(settings0, astra_input_file=ASTRA_IN,\n",
    "                    distgen_input_file=inp, verbose= False , archive_path = ARCHIVE_PATH)\n",
    "        all_outputs[NAMES[i]] = A\n",
    "    outputs[charge] = all_outputs\n",
    "    \n",
    "print(\"Done\")"
   ]
  },
  {
   "cell_type": "markdown",
   "metadata": {},
   "source": [
    "## View the Results"
   ]
  },
  {
   "cell_type": "code",
   "execution_count": null,
   "metadata": {},
   "outputs": [],
   "source": [
    "emits = [\"end_core_emit_95percent_x\", \"end_core_emit_95percent_y\"]\n",
    "\n",
    "\n",
    "for charge in charges:\n",
    "    for e in emits:\n",
    "        em = []\n",
    "        for name in NAMES:\n",
    "            em.append(outputs[charge][name][e])\n",
    "        mpl.style.use('seaborn')\n",
    "        plt.title(e)\n",
    "        plt.plot(NAMES, np.array(em)*1E6, '.', label = e, markersize = 15)\n",
    "        plt.legend()\n",
    "    plt.xlabel(\"Distgen Input\")\n",
    "    plt.ylabel(\"Emittance(mm-mrad)\")\n",
    "    plt.title(charge + \", Emittance at YAG Screen, z = 1.49m\")\n",
    "    plt.show()"
   ]
  },
  {
   "cell_type": "code",
   "execution_count": null,
   "metadata": {},
   "outputs": [],
   "source": [
    "sizes = ['end_sigma_x', 'end_sigma_y']\n",
    "\n",
    "for charge in charges:\n",
    "    for e in sizes:\n",
    "        em = []\n",
    "        for name in NAMES:\n",
    "            em.append(outputs[charge][name][e])\n",
    "        mpl.style.use('seaborn')\n",
    "        plt.title(e)\n",
    "        plt.plot(NAMES, np.array(em)*1E3, '.', label = e, markersize = 15)\n",
    "        plt.legend()\n",
    "    plt.xlabel(\"Distgen Input\")\n",
    "    plt.ylabel(\"Beam Size(mm)\")\n",
    "    plt.title(charge + \", Beam Sizes at YAG Screen, z = 1.49m\")\n",
    "    plt.show()"
   ]
  },
  {
   "cell_type": "code",
   "execution_count": null,
   "metadata": {},
   "outputs": [],
   "source": []
  }
 ],
 "metadata": {
  "kernelspec": {
   "display_name": "MyEnv",
   "language": "python",
   "name": "myenv"
  },
  "language_info": {
   "codemirror_mode": {
    "name": "ipython",
    "version": 3
   },
   "file_extension": ".py",
   "mimetype": "text/x-python",
   "name": "python",
   "nbconvert_exporter": "python",
   "pygments_lexer": "ipython3",
   "version": "3.7.6"
  }
 },
 "nbformat": 4,
 "nbformat_minor": 4
}
