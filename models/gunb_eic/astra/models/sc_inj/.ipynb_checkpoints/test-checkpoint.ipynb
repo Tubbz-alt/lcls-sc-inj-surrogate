{
 "cells": [
  {
   "cell_type": "code",
   "execution_count": null,
   "metadata": {},
   "outputs": [],
   "source": [
    "from astra import Astra, run_astra_with_distgen\n",
    "from distgen import Generator\n",
    "import os\n",
    "\n",
    "import matplotlib.pyplot as plt"
   ]
  },
  {
   "cell_type": "code",
   "execution_count": null,
   "metadata": {},
   "outputs": [],
   "source": [
    "from astra.astra import recommended_spacecharge_mesh"
   ]
  },
  {
   "cell_type": "code",
   "execution_count": null,
   "metadata": {},
   "outputs": [],
   "source": [
    "recommended_spacecharge_mesh(1000)"
   ]
  },
  {
   "cell_type": "code",
   "execution_count": null,
   "metadata": {},
   "outputs": [],
   "source": [
    "g_in = '$LCLS_LATTICE/distgen/models/gunb_gaussian/distgen.yaml'\n",
    "G = Generator(g_in)\n",
    "G.input['beam']['particle_count'] = 1000\n",
    "G.run()\n",
    "P = G.particles"
   ]
  },
  {
   "cell_type": "code",
   "execution_count": null,
   "metadata": {},
   "outputs": [],
   "source": [
    "a_in = os.path.expandvars('$LCLS_LATTICE/astra/models/sc_inj/astra.in')"
   ]
  },
  {
   "cell_type": "code",
   "execution_count": null,
   "metadata": {},
   "outputs": [],
   "source": [
    "settings = {'beam:particle_count':1000, 'lspch':True}\n",
    "A = run_astra_with_distgen(settings=settings, astra_input_file=a_in, distgen_input_file=g_in)"
   ]
  },
  {
   "cell_type": "code",
   "execution_count": null,
   "metadata": {},
   "outputs": [],
   "source": [
    "os.path.exists(os.path.expandvars('$LCLS_LATTICE/astra/models/L0B_gaussian_dist/L0B_gaussian_dist.in'))"
   ]
  },
  {
   "cell_type": "code",
   "execution_count": null,
   "metadata": {},
   "outputs": [],
   "source": [
    "ref_in = os.path.expandvars('$LCLS_LATTICE/astra/models/L0B_gaussian_dist/a.in')\n",
    "A2 = Astra(ref_in, initial_particles=P, verbose=True)\n",
    "A2.input['charge']['lspch'] = True\n",
    "A2.run()"
   ]
  },
  {
   "cell_type": "code",
   "execution_count": null,
   "metadata": {},
   "outputs": [],
   "source": [
    "A = Astra('astra.in', initial_particles=P, verbose=False)\n",
    "A.input['charge']['lspch'] = False\n",
    "A.run()"
   ]
  },
  {
   "cell_type": "code",
   "execution_count": null,
   "metadata": {},
   "outputs": [],
   "source": [
    "xk = 'mean_z'\n",
    "yk = 'sigma_x'\n",
    "X = A.stat(xk)\n",
    "Y = A.stat(yk)\n",
    "\n",
    "X2 = A2.stat(xk)\n",
    "Y2 = A2.stat(yk)\n",
    "plt.xlabel(xk)\n",
    "plt.ylabel(yk)\n",
    "plt.plot(X, Y, label='Correct solenoid positions')\n",
    "plt.plot(X2, Y2, label='old')\n",
    "plt.legend()\n"
   ]
  },
  {
   "cell_type": "code",
   "execution_count": null,
   "metadata": {},
   "outputs": [],
   "source": [
    "[p['mean_z'] for p in A.particles]"
   ]
  },
  {
   "cell_type": "code",
   "execution_count": null,
   "metadata": {},
   "outputs": [],
   "source": [
    "(0.203480+0.289580)/2"
   ]
  },
  {
   "cell_type": "code",
   "execution_count": null,
   "metadata": {},
   "outputs": [],
   "source": [
    "(1.602360 + 1.689260)/2"
   ]
  },
  {
   "cell_type": "code",
   "execution_count": null,
   "metadata": {},
   "outputs": [],
   "source": [
    "x1, x2 =13.988857,     14.218857\n",
    "(x1 + x2)/2"
   ]
  },
  {
   "cell_type": "code",
   "execution_count": null,
   "metadata": {},
   "outputs": [],
   "source": []
  }
 ],
 "metadata": {
  "kernelspec": {
   "display_name": "Python 3",
   "language": "python",
   "name": "python3"
  },
  "language_info": {
   "codemirror_mode": {
    "name": "ipython",
    "version": 3
   },
   "file_extension": ".py",
   "mimetype": "text/x-python",
   "name": "python",
   "nbconvert_exporter": "python",
   "pygments_lexer": "ipython3",
   "version": "3.7.6"
  }
 },
 "nbformat": 4,
 "nbformat_minor": 4
}
