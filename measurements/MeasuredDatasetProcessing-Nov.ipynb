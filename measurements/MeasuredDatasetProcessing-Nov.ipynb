{
 "cells": [
  {
   "cell_type": "code",
   "execution_count": null,
   "metadata": {},
   "outputs": [],
   "source": [
    "%load_ext autoreload\n",
    "%autoreload 2\n",
    "import numpy as np\n",
    "import matplotlib.pyplot as plt\n",
    "from skimage import measure\n",
    "import scipy.ndimage as ndimage\n",
    "import h5py"
   ]
  },
  {
   "cell_type": "code",
   "execution_count": null,
   "metadata": {},
   "outputs": [],
   "source": [
    "import os\n",
    "import sys\n",
    "\n",
    "sys.path.append('/global/u1/l/lgupta/cori/GitHub/lcls-tools/')\n",
    "sys.path.append('/global/u1/l/lgupta/cori/GitHub/lcls-tools/lcls_tools/devices/profile_monitor')\n",
    "sys.path.append('/global/u1/l/lgupta/cori/GitHub/lcls-tools/lcls_tools/devices/magnet')\n",
    "sys.path.append('/global/u1/l/lgupta/cori/GitHub/lcls-tools/lcls_tools/image_processing')\n",
    "\n",
    "from lcls_tools import image_processing as imp"
   ]
  },
  {
   "cell_type": "code",
   "execution_count": null,
   "metadata": {},
   "outputs": [],
   "source": [
    "import ImageProcessing as mip"
   ]
  },
  {
   "cell_type": "code",
   "execution_count": null,
   "metadata": {},
   "outputs": [],
   "source": [
    "DATA_PATH = '/global/u1/l/lgupta/m669/datasets/Astra_EIC/MeasuredDataAstraSim/'\n",
    "OCT_DATA_PATH = os.path.join(DATA_PATH + \"oct_2019_vcc_database.h5\")\n",
    "NOV_DATA_PATH = os.path.join(DATA_PATH + \"nov_2019_vcc_database.h5\")"
   ]
  },
  {
   "cell_type": "code",
   "execution_count": null,
   "metadata": {},
   "outputs": [],
   "source": [
    "f = h5py.File(NOV_DATA_PATH, \"r\")\n",
    "vcc_timestamps = list(f['lcls_sc_image_and_pv_data_vcc'].keys())\n",
    "print(\"Number of unique VCC images: \" +str(len(vcc_timestamps)))\n",
    "yag_timestamps = list(f['lcls_sc_image_and_pv_data_yag'].keys())\n",
    "print(\"Number of unique VCC images: \" +str(len(yag_timestamps)))\n",
    "\n",
    "test = dict((f['lcls_sc_image_and_pv_data_vcc'][vcc_timestamps[0]][\"image\"].attrs))\n",
    "VCC_resolution = test['res']\n",
    "print(\"VCC image resolution in micron per pixel: \" +str(VCC_resolution))\n",
    "\n",
    "test = dict((f['lcls_sc_image_and_pv_data_yag'][yag_timestamps[0]][\"image\"].attrs))\n",
    "YAG_resolution = test['res']\n",
    "print(\"YAG image resolution in micron per pixel: \" +str(YAG_resolution))\n"
   ]
  },
  {
   "cell_type": "code",
   "execution_count": null,
   "metadata": {},
   "outputs": [],
   "source": [
    "YAGPVsofInterest=[\n",
    " 'ACCL:GUNB:455:AACT',\n",
    " 'LGPS:GUNB:1:BACT',\n",
    " 'IRIS:LGUN:600:MOTR_ANGLE',\n",
    " 'SOLN:GUNB:100:BACT',\n",
    " 'SOLN:GUNB:212:BACT',\n",
    " 'SOLN:GUNB:823:BACT',\n",
    " 'TORO:GUNB:360:CHRG']\n",
    "\n",
    "PVsofInterest=[\n",
    " 'ACCL:GUNB:455:AACT',\n",
    " 'LGPS:GUNB:1:BACT',\n",
    " 'IRIS:LGUN:600:MOTR_ANGLE',\n",
    " 'SOLN:GUNB:100:BACT',\n",
    " 'SOLN:GUNB:212:BACT',\n",
    " 'SOLN:GUNB:823:BACT']\n"
   ]
  },
  {
   "cell_type": "code",
   "execution_count": null,
   "metadata": {},
   "outputs": [],
   "source": [
    "VCC_DATASET = {}\n",
    "YAG_DATASET = {}\n",
    "VCCpvs =[]\n",
    "YAGpvs =[]\n",
    "## VCC\n",
    "for time in vcc_timestamps:\n",
    "    VCCpvs.append(mip.getPVsVCC(PVsofInterest, time, f))\n",
    "    mip.makeDataPerVCC(PVsofInterest, VCC_DATASET, time, f)\n",
    "    \n",
    "## YAG\n",
    "for time in yag_timestamps:\n",
    "    YAGpvs.append(mip.getPVsYAG(PVsofInterest, time, f))\n",
    "    mip.makeDataPerYAG(PVsofInterest, YAG_DATASET, time, f)\n",
    "VCCpvs = np.array(VCCpvs)\n",
    "YAGpvs = np.array(YAGpvs)"
   ]
  },
  {
   "cell_type": "code",
   "execution_count": null,
   "metadata": {},
   "outputs": [],
   "source": [
    "timestamp_pairs = {}\n",
    "viable_vccs = []\n",
    "matches = 0\n",
    "for vt in vcc_timestamps[:]:\n",
    "    \n",
    "    vcc = np.array(VCC_DATASET[vt])\n",
    "    stamps = []\n",
    "    for yt in yag_timestamps[:]:\n",
    "        #print(yt)\n",
    "        if yt!=\"2019-11-01T13:46:54.311939\" and yt!=\"2019-11-01T13:48:51.510801\" and yt!=\"2019-11-01T13:38:44.399731\":\n",
    "            yag = np.array(YAG_DATASET[yt])\n",
    "            percent_dif = 100*np.abs((vcc-yag)/yag)\n",
    "            if np.all(percent_dif[1:] < 10):\n",
    "                stamps.append(yt)\n",
    "\n",
    "            timestamp_pairs[vt] = stamps\n",
    "\n",
    "    \n",
    "viable_VCCs = []\n",
    "\n",
    "for t in timestamp_pairs.keys():\n",
    "    x = len(timestamp_pairs[t])\n",
    "    if x > 0:\n",
    "        matches = matches+x\n",
    "        viable_VCCs.append(t)\n",
    "print(matches)"
   ]
  },
  {
   "cell_type": "code",
   "execution_count": null,
   "metadata": {},
   "outputs": [],
   "source": [
    "actually_viable_VCCs = []\n",
    "\n",
    "\n",
    "for vt in viable_VCCs:\n",
    "    if vt != \"2019-11-01T12:19:15.316264\":\n",
    "        VCCimage = np.array(f['lcls_sc_image_and_pv_data_vcc'][vt][\"image\"][:])\n",
    "        img, masked, xproj, xdata, xgauss_fit, xcov, xerr, yproj, ydata, ygauss_fit, ycov, yerr = mip.VCCAnalysis(VCCimage, plotting = False, resolution = VCC_resolution)\n",
    "        if np.sum(masked) > 7000.0:\n",
    "            #print(np.sum(masked))\n",
    "            actually_viable_VCCs.append(vt)\n",
    "            #print(vt)\n",
    "            #plt.imshow(img)\n",
    "            #plt.show()\n",
    "        \n",
    "print(np.shape(actually_viable_VCCs))"
   ]
  },
  {
   "cell_type": "code",
   "execution_count": null,
   "metadata": {},
   "outputs": [],
   "source": []
  },
  {
   "cell_type": "code",
   "execution_count": null,
   "metadata": {},
   "outputs": [],
   "source": [
    "yagPVs = []\n",
    "vccPVs = []\n",
    "\n",
    "plotting = False\n",
    "\n",
    "first = 0\n",
    "i = 0\n",
    "for vt in actually_viable_VCCs:\n",
    "\n",
    "    yts = timestamp_pairs[vt]\n",
    "    for yt in yts:\n",
    "        \n",
    "        if first == 0:\n",
    "            VCCimages = np.array(f['lcls_sc_image_and_pv_data_vcc'][vt][\"image\"][:])\n",
    "            YAGimages = np.array(f['lcls_sc_image_and_pv_data_yag'][yt][\"image\"][:, :])\n",
    "            first = 1\n",
    "        else:\n",
    "            vccimg = np.array(f['lcls_sc_image_and_pv_data_vcc'][vt][\"image\"][:])\n",
    "            VCCimages = np.dstack((VCCimages, vccimg))\n",
    "            yagimage = np.array(f['lcls_sc_image_and_pv_data_yag'][yt][\"image\"][:])\n",
    "            YAGimages = np.dstack((YAGimages, yagimage[:, :]))\n",
    "            #YAGimages = np.dstack((YAGimages, yagimage[50:, 900]))\n",
    "            if plotting:\n",
    "                plt.figure(figsize=(2,2))\n",
    "                print(i, yt)\n",
    "                plt.imshow(YAGimages[:,:,-1])\n",
    "                plt.show()\n",
    "        i = i + 1\n",
    "        first = 1\n",
    "        YAGpvs = mip.getPVsYAG(YAGPVsofInterest, yt, f)\n",
    "        vccPVs.append(mip.getPVsVCC(YAGPVsofInterest,vt,f))\n",
    "        yagPVs.append(YAGpvs)\n",
    "        \n",
    "yagPVs = np.array(yagPVs)\n",
    "vccPVs = np.array(vccPVs)\n",
    "print(np.shape(VCCimages))        \n",
    "print(np.shape(YAGimages)) \n",
    "print(np.shape(yagPVs))\n",
    "print(np.shape(vccPVs))"
   ]
  },
  {
   "cell_type": "code",
   "execution_count": null,
   "metadata": {},
   "outputs": [],
   "source": [
    "np.shape(vccPVs)"
   ]
  },
  {
   "cell_type": "code",
   "execution_count": null,
   "metadata": {},
   "outputs": [],
   "source": [
    "np.shape(yagPVs)"
   ]
  },
  {
   "cell_type": "code",
   "execution_count": null,
   "metadata": {},
   "outputs": [],
   "source": [
    "VCC_names = []\n",
    "YAG_names = []\n",
    "for vt in actually_viable_VCCs:\n",
    "    yts = timestamp_pairs[vt]\n",
    "    print( vt, len(yts))\n",
    "    for i in range(len(yts)):\n",
    "        VCC_names.append(vt)\n",
    "        YAG_names.append(yts[i])\n",
    "        \n",
    "        "
   ]
  },
  {
   "cell_type": "code",
   "execution_count": null,
   "metadata": {},
   "outputs": [],
   "source": [
    "VCC_analysis = mip.doAnalysisAndReturnDict(VCCimages, plotting = False, resolution = VCC_resolution, VCC = True)    \n",
    "YAG_analysis = mip.doAnalysisAndReturnDict(YAGimages, plotting = True, npix = 150, resolution = YAG_resolution, VCC = False, verbose = False)  "
   ]
  },
  {
   "cell_type": "code",
   "execution_count": null,
   "metadata": {},
   "outputs": [],
   "source": [
    "#import ImageProcessing as mip\n",
    "inps, vbin, ybin, yfit = mip.package(VCC_analysis, vccPVs, VCC_resolution, YAG_analysis, yagPVs, YAG_resolution, YAGPVsofInterest)"
   ]
  },
  {
   "cell_type": "code",
   "execution_count": null,
   "metadata": {},
   "outputs": [],
   "source": [
    "## make text files and yaml files\n"
   ]
  },
  {
   "cell_type": "code",
   "execution_count": null,
   "metadata": {},
   "outputs": [],
   "source": [
    "\n",
    "\n",
    "savepath = \"/global/u1/l/lgupta/m669/datasets/Astra_EIC/MeasuredDataAstraSim/VCC/distgen/\"\n",
    "savenames = []\n",
    "\n",
    "for ind, name in enumerate(VCC_names):\n",
    "    name = name.split('.')[0]\n",
    "    savename = savepath+name\n",
    "    image = VCC_analysis['masked_images'][ind]\n",
    "    n,m = np.shape(image)\n",
    "    np.savetxt(savename+'.txt',image)\n",
    "    xwidth=VCC_resolution*n*(1E-3)\n",
    "    ywidth=VCC_resolution*m*(1E-3)\n",
    "    xcm=VCC_resolution*(n/2)*(1E-3)\n",
    "    ycm=VCC_resolution*(m/2)*(1E-3)\n",
    "    \n",
    "    with open(savename+'.txt', 'r+') as f:\n",
    "        with open(savename+\"_out.txt\", \"w\") as f2:\n",
    "            line = 'x ' + str(xwidth) + \" \" + str(xcm) + \" [mm]\\ny \" + str(ywidth) + \" \" + str(ycm) + \" [mm]\\n\"\n",
    "            f2.write(line)\n",
    "            for line in f:\n",
    "                f2.write(line)\n",
    "    \n",
    "    savenames.append(savename+\"_out.txt\")\n",
    "    \n",
    "    "
   ]
  },
  {
   "cell_type": "code",
   "execution_count": null,
   "metadata": {},
   "outputs": [],
   "source": [
    "import yaml\n",
    "####for making yaml input files DO NOT DELETE\n",
    "originalfile = \"/global/homes/l/lgupta/m669/MeasuredData/VCC/laser_in.yaml\"\n",
    "with open(originalfile) as j:\n",
    "    originaldata = yaml.load(j, Loader=yaml.FullLoader)\n",
    "    \n",
    "yaml_input_files = []\n",
    "for ind, name in enumerate(savenames):\n",
    "    data = originaldata\n",
    "    data[\"xy_dist\"][\"file\"] = name\n",
    "    data[\"start\"][\"MTE\"][\"value\"] = 250\n",
    "    outname = name.split('_out')[0] + \"_laser_in.yaml\"\n",
    "    yaml_input_files.append(outname)\n",
    "    with open(outname, 'w') as f:\n",
    "        yaml.dump(data, f)\n",
    "\n",
    "print(\"Files written to:  \"+savepath)"
   ]
  },
  {
   "cell_type": "code",
   "execution_count": null,
   "metadata": {},
   "outputs": [],
   "source": [
    "inps[\"distgen_inputs\"] = yaml_input_files"
   ]
  },
  {
   "cell_type": "code",
   "execution_count": null,
   "metadata": {},
   "outputs": [],
   "source": [
    "inps.keys()"
   ]
  },
  {
   "cell_type": "code",
   "execution_count": null,
   "metadata": {},
   "outputs": [],
   "source": [
    "import json\n",
    "from json import JSONEncoder\n",
    "\n",
    "\n",
    "class NumpyArrayEncoder(JSONEncoder):\n",
    "    def default(self, obj):\n",
    "        if isinstance(obj, np.ndarray):\n",
    "            return obj.tolist()\n",
    "        return JSONEncoder.default(self, obj)\n",
    "    \n",
    "with open(\"/global/u1/l/lgupta/m669/datasets/Astra_EIC/MeasuredDataAstraSim/nov_inputs.json\", 'w') as f:\n",
    "    json.dump(inps,f, cls=NumpyArrayEncoder)\n",
    "\n",
    "np.save(\"/global/u1/l/lgupta/m669/datasets/Astra_EIC/MeasuredDataAstraSim/nov_vcc_binned.npy\", vbin)\n",
    "np.save(\"/global/u1/l/lgupta/m669/datasets/Astra_EIC/MeasuredDataAstraSim/nov_yag_binned.npy\", ybin)\n",
    "np.save(\"/global/u1/l/lgupta/m669/datasets/Astra_EIC/MeasuredDataAstraSim/nov_yag_fits.npy\", yfit)"
   ]
  },
  {
   "cell_type": "code",
   "execution_count": null,
   "metadata": {},
   "outputs": [],
   "source": [
    "for i in YAGPVsofInterest:\n",
    "    plt.hist(inps[i])\n",
    "    plt.title(i)\n",
    "    plt.show()"
   ]
  },
  {
   "cell_type": "code",
   "execution_count": null,
   "metadata": {},
   "outputs": [],
   "source": [
    "\n"
   ]
  }
 ],
 "metadata": {
  "kernelspec": {
   "display_name": "MyEnv",
   "language": "python",
   "name": "myenv"
  },
  "language_info": {
   "codemirror_mode": {
    "name": "ipython",
    "version": 3
   },
   "file_extension": ".py",
   "mimetype": "text/x-python",
   "name": "python",
   "nbconvert_exporter": "python",
   "pygments_lexer": "ipython3",
   "version": "3.7.6"
  }
 },
 "nbformat": 4,
 "nbformat_minor": 4
}
