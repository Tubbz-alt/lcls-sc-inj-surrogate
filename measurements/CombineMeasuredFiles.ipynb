{
 "cells": [
  {
   "cell_type": "code",
   "execution_count": 1,
   "metadata": {},
   "outputs": [],
   "source": [
    "## combining measured data into data sets"
   ]
  },
  {
   "cell_type": "code",
   "execution_count": 2,
   "metadata": {},
   "outputs": [],
   "source": [
    "import numpy as np\n",
    "import json\n",
    "\n",
    "def load_json(filePath):\n",
    "    \"\"\"\n",
    "    Load from a JSON file\n",
    "    Returns a dict\n",
    "    \"\"\"\n",
    "    with open(filePath, 'r') as f:\n",
    "        dat = json.load(f)\n",
    "    return dat \n"
   ]
  },
  {
   "cell_type": "code",
   "execution_count": 3,
   "metadata": {},
   "outputs": [],
   "source": [
    "PATH = \"/gpfs/slac/staas/fs1/g/accelerator_modeling/lgupta/datasets/UpdateMeasuredData/AstraSimDat/MeasuredData/\""
   ]
  },
  {
   "cell_type": "code",
   "execution_count": 4,
   "metadata": {},
   "outputs": [],
   "source": [
    "## inputs concatenated\n",
    "d1 = load_json(PATH+\"oct_inputs.json\")\n",
    "d2 = load_json(PATH+\"nov_inputs.json\")\n",
    "\n",
    "ds = [d1, d2]\n",
    "d = {}\n",
    "for k in d1.keys():\n",
    "    d[k] = np.concatenate(list(d[k] for d in ds))\n",
    "\n",
    "    \n",
    "YAGPVsofInterest=[\n",
    " 'SOLN:GUNB:212:BACT',\n",
    " 'TORO:GUNB:360:CHRG', \n",
    " 'distgen_inputs']\n",
    "    \n",
    "X_LABELS = [\"maxb(2)\", \"total_charge:value\"]\n",
    "\n",
    "vs = np.zeros((np.shape(d[YAGPVsofInterest[0]])[0],int(len(YAGPVsofInterest[:-1]))))\n",
    "\n",
    "for ind, k in enumerate(YAGPVsofInterest[:-1]):\n",
    "    vs[:,ind] = d[k]"
   ]
  },
  {
   "cell_type": "code",
   "execution_count": null,
   "metadata": {},
   "outputs": [],
   "source": []
  },
  {
   "cell_type": "code",
   "execution_count": 5,
   "metadata": {},
   "outputs": [],
   "source": [
    "# plt.hist(vs[:,0]);\n",
    "# plt.title(X_LABELS[0])\n",
    "# plt.show()\n",
    "# plt.hist(vs[:,1]);\n",
    "# plt.title(X_LABELS[1])\n",
    "# plt.show()"
   ]
  },
  {
   "cell_type": "code",
   "execution_count": 6,
   "metadata": {},
   "outputs": [
    {
     "name": "stdout",
     "output_type": "stream",
     "text": [
      "(153, 2504)\n",
      "(14, 2504)\n",
      "(167, 2504)\n"
     ]
    }
   ],
   "source": [
    "## VCCs concatenated\n",
    "\n",
    "v1 = np.load(PATH+\"oct_vcc_binned.npy\")\n",
    "v2 = np.load(PATH+\"nov_vcc_binned.npy\")\n",
    "print(np.shape(v1))\n",
    "print(np.shape(v2))\n",
    "v = np.concatenate((v1,v2))\n",
    "print(np.shape(v))"
   ]
  },
  {
   "cell_type": "code",
   "execution_count": 7,
   "metadata": {},
   "outputs": [
    {
     "name": "stdout",
     "output_type": "stream",
     "text": [
      "(153, 2504)\n",
      "(14, 2504)\n",
      "(167, 2504)\n"
     ]
    }
   ],
   "source": [
    "## YAGs concatenated\n",
    "\n",
    "y1 = np.load(PATH+\"oct_yag_binned.npy\")\n",
    "y2 = np.load(PATH+\"nov_yag_binned.npy\")\n",
    "print(np.shape(y1))\n",
    "print(np.shape(y2))\n",
    "y = np.concatenate((y1,y2))\n",
    "print(np.shape(y))"
   ]
  },
  {
   "cell_type": "code",
   "execution_count": 9,
   "metadata": {},
   "outputs": [],
   "source": [
    "import matplotlib.pyplot as plt\n",
    "plotting = 0\n",
    "if plotting:\n",
    "    for n in range(167):\n",
    "        print(n)\n",
    "\n",
    "        fig, (ax1, ax2) = plt.subplots(1, 2, figsize = (10,5))\n",
    "\n",
    "        im = ax1.imshow(v[n,4:].reshape(50,50), origin = \"lower\", extent = v[n,:4]*1E-3)\n",
    "        ax1.set_xlabel('Millimeters')\n",
    "        ax1.set_ylabel('Millimeters')\n",
    "\n",
    "        ax2.imshow(y[n,4:].reshape(50,50), origin = \"lower\", extent = y[n,:4]*1E-3)\n",
    "\n",
    "        ax2.set_xlabel('Millimeters')\n",
    "        ax1.set_ylabel('Millimeters')\n",
    "\n",
    "        plt.show()\n"
   ]
  },
  {
   "cell_type": "code",
   "execution_count": 10,
   "metadata": {},
   "outputs": [
    {
     "name": "stdout",
     "output_type": "stream",
     "text": [
      "(153, 2)\n",
      "(14, 2)\n",
      "(167, 2)\n"
     ]
    }
   ],
   "source": [
    "## YAG fits concatenated \n",
    "yf1 = np.load(PATH+\"oct_yag_fits.npy\")\n",
    "yf2 = np.load(PATH+\"nov_yag_fits.npy\")\n",
    "print(np.shape(yf1))\n",
    "print(np.shape(yf2))\n",
    "yf = np.concatenate((yf1,yf2))\n",
    "print(np.shape(yf))"
   ]
  },
  {
   "cell_type": "code",
   "execution_count": 15,
   "metadata": {},
   "outputs": [],
   "source": [
    "DATE = \"combined_090320_\""
   ]
  },
  {
   "cell_type": "code",
   "execution_count": 22,
   "metadata": {},
   "outputs": [
    {
     "name": "stdout",
     "output_type": "stream",
     "text": [
      "(167, 2)\n",
      "(167, 2504)\n",
      "(167, 2504)\n",
      "(167, 2)\n",
      "SAVED: /gpfs/slac/staas/fs1/g/accelerator_modeling/lgupta/datasets/UpdateMeasuredData/AstraSimDat/MeasuredData/combined_090320_\n"
     ]
    }
   ],
   "source": [
    "## Things to save into npy format: \n",
    "# vs (scalar inputs)\n",
    "# v (image inputs)\n",
    "# y (image outputs)\n",
    "# yf (scalar outputs)\n",
    "\n",
    "print(np.shape(vs))\n",
    "print(np.shape(v))\n",
    "print(np.shape(y))\n",
    "print(np.shape(yf))\n",
    "\n",
    "\n",
    "np.save(PATH + DATE + \"scalar_inputs.npy\", vs)\n",
    "np.save(PATH + DATE + \"image_inputs.npy\", v)\n",
    "np.save(PATH + DATE + \"image_outputs.npy\",y)\n",
    "np.save(PATH + DATE + \"scalar_outputs.npy\", yf)\n",
    "\n",
    "np.save(PATH + DATE + \"inputs.npy\", np.concatenate((vs,v), axis = 1))\n",
    "np.save(PATH + DATE + \"outputs.npy\", np.concatenate((yf,y), axis = 1))\n",
    "print(\"SAVED: \" + PATH + DATE)"
   ]
  },
  {
   "cell_type": "code",
   "execution_count": null,
   "metadata": {},
   "outputs": [],
   "source": []
  }
 ],
 "metadata": {
  "kernelspec": {
   "display_name": "Python 3",
   "language": "python",
   "name": "python3"
  },
  "language_info": {
   "codemirror_mode": {
    "name": "ipython",
    "version": 3
   },
   "file_extension": ".py",
   "mimetype": "text/x-python",
   "name": "python",
   "nbconvert_exporter": "python",
   "pygments_lexer": "ipython3",
   "version": "3.6.9"
  }
 },
 "nbformat": 4,
 "nbformat_minor": 4
}
